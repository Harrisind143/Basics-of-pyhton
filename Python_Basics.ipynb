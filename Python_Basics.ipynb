{
  "nbformat": 4,
  "nbformat_minor": 0,
  "metadata": {
    "colab": {
      "provenance": []
    },
    "kernelspec": {
      "name": "python3",
      "display_name": "Python 3"
    },
    "language_info": {
      "name": "python"
    }
  },
  "cells": [
    {
      "cell_type": "markdown",
      "source": [
        "1 What is Python, and why is it popular\n",
        "\n",
        "Python is a high-level, interpreted programming language known for its simplicity, readability, and versatility. It was created by Guido van Rossum and first released in 1991.\n",
        "\n",
        "1. Readability and Simplicity:\n",
        "\n",
        "It emphasizes readability, which means it’s easier to maintain and debug code.\n",
        "\n",
        "2. Versatility:\n",
        "Python is used in many areas of software development, including web development, data analysis, artificial intelligence (AI), machine learning, scientific computing, and more.\n",
        "\n",
        "It has a large number of libraries and frameworks that make it useful for a wide range of applications. For example:\n",
        "\n",
        "Pandas, NumPy, and Matplotlib for data analysis and visualization\n",
        "\n",
        "TensorFlow, PyTorch, and Scikit-learn for machine learning and AI\n",
        "\n",
        "3. Extensive Libraries and Frameworks:\n",
        "Python has a massive ecosystem of libraries and frameworks, which means developers can quickly access pre-built solutions for common problems. This saves time and makes Python an attractive choice for developers.\n",
        "\n",
        "These libraries cover everything from data manipulation to web development and image processing.\n",
        "\n",
        "4. Cross-Platform Compatibility:\n",
        "Python can run on any major operating system, such as Windows, macOS, and Linux. It’s also compatible with various platforms, allowing developers to write code that works across multiple systems without modification.\n",
        "\n",
        "5. Large Community and Support:\n",
        "Python has a huge community of developers and users. This means there’s a wealth of resources such as tutorials, documentation, forums, and Q&A sites (like Stack Overflow) to help solve problems.\n",
        "\n",
        "It’s easier to get help from the community, find libraries or tools, and get advice for best practices.\n",
        "\n",
        "6. Integration Capabilities:\n",
        "Python can integrate with other languages like C, C++, and Java, and it can also interface with APIs, databases, and web services. This allows developers to combine Python’s simplicity with the performance of other languages when needed.\n",
        "\n",
        "7. Popularity in Emerging Fields:\n",
        "Python has become the go-to language for data science, AI, machine learning, and automation. Its libraries and tools are central to these fast-growing fields, further driving its adoption.\n",
        "\n",
        "8. Excellent for Prototyping:\n",
        "Python is great for prototyping and quickly developing working models of applications due to its simplicity.\n",
        "9. Open Source:\n",
        "\n"
      ],
      "metadata": {
        "id": "lvXEDLojJpO6"
      }
    },
    {
      "cell_type": "code",
      "execution_count": null,
      "metadata": {
        "id": "NflQk_vKJQ6I"
      },
      "outputs": [],
      "source": []
    },
    {
      "cell_type": "code",
      "source": [],
      "metadata": {
        "id": "vzvECznXOFYo"
      },
      "execution_count": null,
      "outputs": []
    },
    {
      "cell_type": "markdown",
      "source": [
        "2 What is an interpreter in Python?\n",
        "\n",
        "An interpreter in Python is a program that reads and executes Python code line by line. Unlike compiled languages (where the entire code is translated into machine code before execution), an interpreter directly translates and runs the code, one instruction at a time.\n",
        "\n",
        "Code Execution: When you write Python code and run it, the Python interpreter reads your code, interprets it (i.e., translates it into machine-readable instructions), and then executes those instructions immediately.\n",
        "\n",
        "No Compilation Step: In Python, you don’t need to compile the code before running it. The interpreter takes care of executing your code directly, making development faster and more interactive.\n",
        "\n",
        "Error Handling: The interpreter checks for errors as it executes the code, meaning it can stop at the point where an error occurs. This is helpful for debugging, as you can quickly identify and fix issues."
      ],
      "metadata": {
        "id": "EtwUQvJyK-wF"
      }
    },
    {
      "cell_type": "markdown",
      "source": [],
      "metadata": {
        "id": "aM6BHSHpOGCh"
      }
    },
    {
      "cell_type": "markdown",
      "source": [
        "3.What are pre-defined keywords in Python?\n",
        "\n",
        "In Python, predefined keywords (also called reserved words) are special words that have a specific meaning in the language. These keywords are reserved by the Python interpreter and cannot be used as variable names, function names, or identifiers. Each keyword serves a unique function or defines a syntax rule within the Python language\n",
        "\n",
        "some Python Keywords (List)\n",
        "\n",
        "False\n",
        "\n",
        "None\n",
        "\n",
        "True\n",
        "\n",
        "and\n",
        "\n",
        "as\n",
        "\n",
        "await\n",
        "\n",
        "break\n",
        "\n",
        "class\n",
        "\n",
        "continue\n",
        "\n",
        "def\n",
        "\n",
        "del\n",
        "\n",
        "elif\n",
        "\n",
        "else\n",
        "\n",
        "except\n",
        "\n",
        "finally\n",
        "\n",
        "for\n",
        "\n",
        "global\n",
        "\n",
        "if\n",
        "\n",
        "import\n",
        "\n",
        "in\n",
        "\n",
        "lambda\n",
        "\n",
        "nonlocal\n",
        "\n",
        "not\n",
        "\n",
        "or\n",
        "\n",
        "pass\n",
        "\n",
        "raise\n",
        "\n",
        "return\n",
        "\n",
        "try\n",
        "\n",
        "while\n",
        "\n",
        "with\n",
        "\n",
        "yield\n",
        "\n",
        "Explanation of Some Keywords:\n",
        "False, True: Boolean values representing \"false\" and \"true.\"\n",
        "\n",
        "None: Represents the absence of a value or a null value.\n",
        "\n",
        "and, or, not: Logical operators used for conditional expressions.\n",
        "\n",
        "if, elif, else: Conditional statements used for decision-making.\n",
        "\n",
        "for, while: Looping statements for iteration.\n",
        "\n",
        "break, continue: Control flow keywords for breaking out of loops or continuing to the next iteration.\n",
        "\n",
        "class: Used to define a class.\n",
        "\n",
        "def: Used to define a function.\n",
        "\n",
        "return: Used to return a value from a function.\n",
        "\n",
        "import, from: Used to import modules or specific items from modules.\n",
        "\n",
        "try, except, finally: Used for exception handling to deal with errors.\n",
        "\n",
        "lambda: Used to create anonymous functions.\n",
        "\n",
        "yield: Used in a function to make it a generator, allowing it to return values one at a time.\n",
        "\n",
        "global, nonlocal: Used to declare variables as global or nonlocal within a function or block of code."
      ],
      "metadata": {
        "id": "hy1_4msxOIJm"
      }
    },
    {
      "cell_type": "markdown",
      "source": [
        "4. Can keywords be used as variable names ?\n",
        "\n",
        "  No, keywords in Python cannot be used as variable names. Keywords are reserved by the Python language because they have special meaning and are used to define the syntax and structure of the language. Using a keyword as a variable name would result in a syntax error.\n",
        "  eg:\n"
      ],
      "metadata": {
        "id": "Q519uKMqPxze"
      }
    },
    {
      "cell_type": "code",
      "source": [
        "None = 5"
      ],
      "metadata": {
        "colab": {
          "base_uri": "https://localhost:8080/",
          "height": 106
        },
        "id": "qTmYBsVbQMyV",
        "outputId": "5ffc9618-488c-4efe-c7ab-71ba20413c70"
      },
      "execution_count": 1,
      "outputs": [
        {
          "output_type": "error",
          "ename": "SyntaxError",
          "evalue": "cannot assign to None (<ipython-input-1-c10ce88c9eeb>, line 1)",
          "traceback": [
            "\u001b[0;36m  File \u001b[0;32m\"<ipython-input-1-c10ce88c9eeb>\"\u001b[0;36m, line \u001b[0;32m1\u001b[0m\n\u001b[0;31m    None = 5\u001b[0m\n\u001b[0m    ^\u001b[0m\n\u001b[0;31mSyntaxError\u001b[0m\u001b[0;31m:\u001b[0m cannot assign to None\n"
          ]
        }
      ]
    },
    {
      "cell_type": "markdown",
      "source": [
        "5. What is mutability in Python?\n",
        "\n",
        "Mutability in Python refers to whether the value of an object can be changed after it is created. In other words, a mutable object allows its content or state to be modified, while an immutable object does not allow modification of its state after it has been created.\n",
        "\n",
        "Mutable Objects\n",
        "Mutable objects are those whose values can be changed in place, meaning you can modify their content without creating a new object.\n",
        "\n",
        "Eg:\n",
        "\n",
        "Lists: Elements in a list are mutable\n"
      ],
      "metadata": {
        "id": "T6QRTzBNQhmp"
      }
    },
    {
      "cell_type": "markdown",
      "source": [],
      "metadata": {
        "id": "cFOHjKzLRzii"
      }
    },
    {
      "cell_type": "code",
      "source": [
        "my_list = [1, 2, 3]\n",
        "my_list[0] = 5\n",
        "print(my_list)  # Output: [5, 2, 3]"
      ],
      "metadata": {
        "colab": {
          "base_uri": "https://localhost:8080/"
        },
        "id": "gGwftrs0Rdqq",
        "outputId": "16f06370-e4b3-42b0-d4a1-b3c4d5897e01"
      },
      "execution_count": 2,
      "outputs": [
        {
          "output_type": "stream",
          "name": "stdout",
          "text": [
            "[5, 2, 3]\n"
          ]
        }
      ]
    },
    {
      "cell_type": "markdown",
      "source": [
        "Dictionaries: Values associated with keys in a dictionary are changeable"
      ],
      "metadata": {
        "id": "j0_duZ-MR3fm"
      }
    },
    {
      "cell_type": "code",
      "source": [
        "my_dict = {'a': 1, 'b': 2}\n",
        "my_dict['a'] = 6\n",
        "print(my_dict)  # Output: {'a': 6, 'b': 2}"
      ],
      "metadata": {
        "colab": {
          "base_uri": "https://localhost:8080/"
        },
        "id": "qIKHK776SEW5",
        "outputId": "0f6911c1-70e1-4b07-eb79-292ea228d8ac"
      },
      "execution_count": 3,
      "outputs": [
        {
          "output_type": "stream",
          "name": "stdout",
          "text": [
            "{'a': 6, 'b': 2}\n"
          ]
        }
      ]
    },
    {
      "cell_type": "markdown",
      "source": [
        "6. Why are lists mutable, but tuples are immutable?\n",
        "\n",
        " Lists are mutable because they are meant to represent collections of data that can change over time. This flexibility allows you to add, remove, or change elements.\n",
        "\n",
        " Tuples are immutable because they are designed to represent fixed collections of data, ensuring that their contents remain unchanged. This makes tuples more efficient in memory usage, hashable, and safer for use in situations where data integrity is critical."
      ],
      "metadata": {
        "id": "4SjmrGiwSQWV"
      }
    },
    {
      "cell_type": "markdown",
      "source": [
        "7. What is the difference between “==” and “is” operators in Python\n",
        "\n",
        "  The == operator checks whether the values of two objects are equal. It compares the actual data stored in the objects.\n",
        "\n",
        "  It doesn't care if the two objects are the same object in memory, just whether they are equivalent in value.\n",
        "  eg:\n"
      ],
      "metadata": {
        "id": "VtQpub4CTe10"
      }
    },
    {
      "cell_type": "code",
      "source": [
        "A = [1,2,26]\n",
        "B = [1,2,26]\n",
        "print(A==B) # result is true since lists have same elements"
      ],
      "metadata": {
        "colab": {
          "base_uri": "https://localhost:8080/"
        },
        "id": "4fnWEVM7T11j",
        "outputId": "9706d41a-592e-4bd9-e9ab-927fb3ce992c"
      },
      "execution_count": 4,
      "outputs": [
        {
          "output_type": "stream",
          "name": "stdout",
          "text": [
            "True\n"
          ]
        }
      ]
    },
    {
      "cell_type": "markdown",
      "source": [
        "The is operator checks whether two objects refer to the same object in memory, meaning it checks the identity of the objects (whether they are the same object, not just equal in value).\n",
        "\n",
        "It does not compare the values inside the objects, only their memory addresses.\n",
        "\n",
        "eg:"
      ],
      "metadata": {
        "id": "smmLT7C2Uao-"
      }
    },
    {
      "cell_type": "code",
      "source": [
        "X=[1,2,3]\n",
        "\n",
        "Y=[1,2,3]\n",
        "\n",
        "print(X is Y) # False since X & y are 2 different objects in memory"
      ],
      "metadata": {
        "colab": {
          "base_uri": "https://localhost:8080/"
        },
        "id": "i0SeX0CMUmHN",
        "outputId": "f299c12c-9c1c-4abe-b256-99904987e0f3"
      },
      "execution_count": 5,
      "outputs": [
        {
          "output_type": "stream",
          "name": "stdout",
          "text": [
            "False\n"
          ]
        }
      ]
    },
    {
      "cell_type": "markdown",
      "source": [
        "8. What are logical operators in Python?\n",
        "\n",
        " In Python, logical operators are used to perform logical operations on Boolean values (True or False). They allow you to combine multiple conditions or test if a certain condition is True or False.\n",
        "\n",
        " There are three main logical operators in Python:\n",
        " 1. and (Logical AND)\n",
        "The and operator returns True if both conditions are True. If either of the conditions is False, the result will be False.\n",
        "If one of the conditions is False, the and operator will return False.\n",
        "eg:"
      ],
      "metadata": {
        "id": "5yNz_nZkVbxA"
      }
    },
    {
      "cell_type": "code",
      "source": [
        "A = 5\n",
        "B = 8\n",
        "print((A>4) and (B<15))# output True since both are true"
      ],
      "metadata": {
        "colab": {
          "base_uri": "https://localhost:8080/"
        },
        "id": "Y_6wmwfSV3dd",
        "outputId": "de14c827-5fff-4c33-d8ec-3ab5f77826ec"
      },
      "execution_count": 6,
      "outputs": [
        {
          "output_type": "stream",
          "name": "stdout",
          "text": [
            "True\n"
          ]
        }
      ]
    },
    {
      "cell_type": "markdown",
      "source": [
        "2. or (Logical OR)\n",
        "The or operator returns True if at least one condition is True. If both conditions are False, it returns False.\n",
        "eg:"
      ],
      "metadata": {
        "id": "vYetigqPWeJ6"
      }
    },
    {
      "cell_type": "code",
      "source": [
        "A = 5\n",
        "B = 8\n",
        "print((A>6) and (B<15))# output True  atleast one is true"
      ],
      "metadata": {
        "colab": {
          "base_uri": "https://localhost:8080/"
        },
        "id": "U2OwvDg2Wh-V",
        "outputId": "8fd6fc7c-978f-42e8-bb1a-8bb7f6668145"
      },
      "execution_count": 7,
      "outputs": [
        {
          "output_type": "stream",
          "name": "stdout",
          "text": [
            "False\n"
          ]
        }
      ]
    },
    {
      "cell_type": "markdown",
      "source": [
        "3. not (Logical NOT)\n",
        "The not operator is used to invert the Boolean value of a condition. If the condition is True, it returns False, and if the condition is False, it returns True.\n",
        "eg:"
      ],
      "metadata": {
        "id": "AhSytNcRW2ky"
      }
    },
    {
      "cell_type": "code",
      "source": [
        "from ast import Not\n",
        "A = 5\n",
        "print(not(A>6))"
      ],
      "metadata": {
        "colab": {
          "base_uri": "https://localhost:8080/"
        },
        "id": "6JzgJIrMW43E",
        "outputId": "7e4cf27e-f6fd-4838-9e55-cf2122ed51d3"
      },
      "execution_count": 8,
      "outputs": [
        {
          "output_type": "stream",
          "name": "stdout",
          "text": [
            "True\n"
          ]
        }
      ]
    },
    {
      "cell_type": "markdown",
      "source": [
        "9 What is type casting in Python?\n",
        "\n",
        "   Type casting in Python refers to the process of converting one data type to another. It allows you to change the type of a value, which can be useful when performing operations with different data types or when you need to convert user input (which is typically a string) into a different type like an integer or float.\n",
        "\n",
        "   Two Types of Type Casting in Python:\n",
        "\n",
        "    Implicit Type Casting (also called Type Coercion)\n",
        "\n",
        "    Explicit Type Casting (also called Type Conversion)\n",
        "\n",
        "1. Implicit Type Casting (Automatic Type Conversion)\n",
        "Implicit type casting is done automatically by Python when it needs to convert a smaller data type to a larger one. This occurs when there’s no risk of losing data, such as when converting an integer to a float."
      ],
      "metadata": {
        "id": "BLHV4cWBXOPh"
      }
    },
    {
      "cell_type": "code",
      "source": [
        "X = 5\n",
        "\n",
        "Y = 2.5\n",
        "\n",
        "print(X+Y)# integer coverted to float"
      ],
      "metadata": {
        "colab": {
          "base_uri": "https://localhost:8080/"
        },
        "id": "iGXWymJiX3y3",
        "outputId": "80400f9f-17dc-4ba4-cfb8-45d1ffb6f19a"
      },
      "execution_count": 9,
      "outputs": [
        {
          "output_type": "stream",
          "name": "stdout",
          "text": [
            "7.5\n"
          ]
        }
      ]
    },
    {
      "cell_type": "markdown",
      "source": [
        "2. Explicit Type Casting (Manual Type Conversion)\n",
        "Explicit type casting occurs when you manually convert one data type to another using built-in functions like int(), float(), str(), etc.\n",
        "\n",
        "Common Type Casting Functions:\n",
        "int(): Converts a value to an integer.\n",
        "\n",
        "float(): Converts a value to a float.\n",
        "\n",
        "str(): Converts a value to a string.\n",
        "\n",
        "list(): Converts an iterable (like a tuple or string) to a list.\n",
        "\n",
        "tuple(): Converts an iterable to a tuple.\n",
        "\n",
        "bool(): Converts a value to a boolean (True or False)."
      ],
      "metadata": {
        "id": "wMYYs3rRYCcb"
      }
    },
    {
      "cell_type": "markdown",
      "source": [
        "10. What is the difference between implicit and explicit type casting?\n",
        "\n",
        "   The difference between implicit and explicit type casting lies in how and when the conversion of one data type to another happens.\n",
        "\n",
        "    1. Implicit Type Casting (Type Promotion)\n",
        "\n",
        "Done automatically by the compiler.\n",
        "\n",
        "Happens when converting from a smaller data type to a larger data type (e.g., int to float).\n",
        "\n",
        "No data loss occurs.\n",
        "\n",
        "Ensures smooth operations without requiring manual intervention.\n",
        "2. Explicit Type Casting (Type Conversion)\n",
        "Done manually by the programmer.\n",
        "\n",
        "Required when converting from a larger data type to a smaller one or between incompatible types (e.g., float to int).\n",
        "\n",
        "Can lead to data loss."
      ],
      "metadata": {
        "id": "5GEu44zQYLJa"
      }
    },
    {
      "cell_type": "markdown",
      "source": [
        "10 What is the purpose of conditional statements in Python?\n",
        "\n",
        "Conditional statements in Python are used to execute different blocks of code based on specific conditions. They allow a program to make decisions and control the flow of execution.\n",
        "\n",
        "Purpose of Conditional Statements:\n",
        "Decision-Making – Executes code only when certain conditions are met.\n",
        "\n",
        "Flow Control – Directs the program to different paths based on conditions.\n",
        "\n",
        "Automation – Enables dynamic responses to inputs or computations.\n",
        "\n",
        "Types of Conditional Statements in Python:\n",
        "\n",
        "if Statement – Executes a block of code if the condition is True"
      ],
      "metadata": {
        "id": "9cJgo6DZZBIT"
      }
    },
    {
      "cell_type": "code",
      "source": [
        "age = 18\n",
        "if age >= 18:\n",
        "    print(\"You are an adult.\")"
      ],
      "metadata": {
        "colab": {
          "base_uri": "https://localhost:8080/"
        },
        "id": "RHwMKeeDZQvs",
        "outputId": "3abe778e-c3f2-4271-f35e-17b7e1e76261"
      },
      "execution_count": 10,
      "outputs": [
        {
          "output_type": "stream",
          "name": "stdout",
          "text": [
            "You are an adult.\n"
          ]
        }
      ]
    },
    {
      "cell_type": "markdown",
      "source": [
        "if-else Statement – Executes one block if the condition is True, another if False."
      ],
      "metadata": {
        "id": "V4Qc0CZIZczw"
      }
    },
    {
      "cell_type": "code",
      "source": [
        "num = 10\n",
        "if num % 2 == 0:\n",
        "    print(\"Even number\")\n",
        "else:\n",
        "    print(\"Odd number\")"
      ],
      "metadata": {
        "colab": {
          "base_uri": "https://localhost:8080/"
        },
        "id": "ZQwo_MEwZeAi",
        "outputId": "1e581a14-f221-4ade-d580-7c477b033e66"
      },
      "execution_count": 11,
      "outputs": [
        {
          "output_type": "stream",
          "name": "stdout",
          "text": [
            "Even number\n"
          ]
        }
      ]
    },
    {
      "cell_type": "markdown",
      "source": [
        "if-elif-else Statement – Handles multiple conditions."
      ],
      "metadata": {
        "id": "x3pnxraDZkBD"
      }
    },
    {
      "cell_type": "code",
      "source": [
        "score = 85\n",
        "if score >= 90:\n",
        "    print(\"Grade: A\")\n",
        "elif score >= 75:\n",
        "    print(\"Grade: B\")\n",
        "else:\n",
        "    print(\"Grade: C\")"
      ],
      "metadata": {
        "colab": {
          "base_uri": "https://localhost:8080/"
        },
        "id": "xMn0Q_ubZmJ9",
        "outputId": "1d3cdfba-4075-4f32-c4d3-d1be83ccaf30"
      },
      "execution_count": 12,
      "outputs": [
        {
          "output_type": "stream",
          "name": "stdout",
          "text": [
            "Grade: B\n"
          ]
        }
      ]
    },
    {
      "cell_type": "markdown",
      "source": [
        "Nested if Statements – if statements inside another if."
      ],
      "metadata": {
        "id": "g0rAxhwVZrmx"
      }
    },
    {
      "cell_type": "code",
      "source": [
        "age = 20\n",
        "has_ID = True\n",
        "if age >= 18:\n",
        "    if has_ID:\n",
        "        print(\"Access granted\")\n",
        "    else:\n",
        "        print(\"ID required\")"
      ],
      "metadata": {
        "colab": {
          "base_uri": "https://localhost:8080/"
        },
        "id": "KC2OnuRvZuIq",
        "outputId": "dc21373e-a64f-4c78-cddf-f702818811a2"
      },
      "execution_count": 13,
      "outputs": [
        {
          "output_type": "stream",
          "name": "stdout",
          "text": [
            "Access granted\n"
          ]
        }
      ]
    },
    {
      "cell_type": "markdown",
      "source": [
        "12. How does the elif statement work?\n",
        "\n",
        "The elif (short for \"else if\") statement in Python allows you to check multiple conditions in a sequential manner. It is used when you need to evaluate multiple conditions but only want one block of code to execute.\n",
        "\n",
        "syntax:"
      ],
      "metadata": {
        "id": "axNX5_B8Z95q"
      }
    },
    {
      "cell_type": "code",
      "source": [
        "if condition1:\n",
        "    # Executes if condition1 is True\n",
        "elif condition2:\n",
        "    # Executes if condition1 is False and condition2 is True\n",
        "elif condition3:\n",
        "    # Executes if condition1 and condition2 are False, but condition3 is True\n",
        "else:\n",
        "    # Executes if none of the conditions are True"
      ],
      "metadata": {
        "id": "AKeMed-5aisL"
      },
      "execution_count": null,
      "outputs": []
    },
    {
      "cell_type": "markdown",
      "source": [
        " 13. What is the difference between for and while loops?\n",
        "\n",
        "   The for and while loops in Python are used for iteration, but they have key differences in how they operate and when they are used.\n",
        "\n",
        "for Loop:\n",
        "\n",
        "  Used when the number of iterations is known beforehand.\n",
        "\n",
        "  Iterates over a sequence (list, tuple, string, range, etc.).\n",
        "\n",
        "  More structured and concise\n",
        "\n",
        "Syntax:\n",
        "\n",
        "for variable in sequence:\n",
        "    # Code block to execute"
      ],
      "metadata": {
        "id": "eHM3PfudawTo"
      }
    },
    {
      "cell_type": "code",
      "source": [
        "# iterating over a range\n",
        "for i in range(5):  # Loops 5 times (0 to 4)\n",
        "    print(i)"
      ],
      "metadata": {
        "colab": {
          "base_uri": "https://localhost:8080/"
        },
        "id": "tPKv4_iYbTFh",
        "outputId": "c7c0189d-8ef5-4145-c01d-2f5363657b0a"
      },
      "execution_count": 14,
      "outputs": [
        {
          "output_type": "stream",
          "name": "stdout",
          "text": [
            "0\n",
            "1\n",
            "2\n",
            "3\n",
            "4\n"
          ]
        }
      ]
    },
    {
      "cell_type": "code",
      "source": [
        "#Looping Through a List\n",
        "fruits = [\"apple\", \"banana\", \"cherry\"]\n",
        "for fruit in fruits:\n",
        "    print(fruit)"
      ],
      "metadata": {
        "colab": {
          "base_uri": "https://localhost:8080/"
        },
        "id": "SE4evKHBbqGY",
        "outputId": "2bbe8bbd-a807-4d74-e829-792e742dc6f3"
      },
      "execution_count": 15,
      "outputs": [
        {
          "output_type": "stream",
          "name": "stdout",
          "text": [
            "apple\n",
            "banana\n",
            "cherry\n"
          ]
        }
      ]
    },
    {
      "cell_type": "markdown",
      "source": [
        "while Loop:\n",
        "\n",
        "Used when the number of iterations is unknown beforehand.\n",
        "\n",
        "Continues execution as long as a condition remains True.\n",
        "\n",
        "Requires careful handling to avoid infinite loops."
      ],
      "metadata": {
        "id": "ncfCHw07bxtM"
      }
    },
    {
      "cell_type": "code",
      "source": [
        "# count still condition is satisfied\n",
        "x = 0\n",
        "while x < 5:\n",
        "    print(x)\n",
        "    x += 1"
      ],
      "metadata": {
        "colab": {
          "base_uri": "https://localhost:8080/"
        },
        "id": "kDvrQ3f9b75e",
        "outputId": "331a83ed-6537-4a63-87e2-99c39319f5a2"
      },
      "execution_count": 16,
      "outputs": [
        {
          "output_type": "stream",
          "name": "stdout",
          "text": [
            "0\n",
            "1\n",
            "2\n",
            "3\n",
            "4\n"
          ]
        }
      ]
    },
    {
      "cell_type": "markdown",
      "source": [
        "14 Describe a scenario where a while loop is more suitable than a for loop?\n",
        "\n",
        "  A while loop is more suitable than a for loop when the number of iterations is unknown beforehand and depends on a condition being met dynamically.\n",
        "\n",
        "  eg: ATM cash withdrawl\n",
        "  A user should be able to withdraw money only  if he had sufficient balance. The program should keep prompting them until they enter a valid amount."
      ],
      "metadata": {
        "id": "yoB_E4gGcQIl"
      }
    },
    {
      "cell_type": "code",
      "source": [
        "balance = 500  # User's bank balance\n",
        "\n",
        "while True:\n",
        "    amount = int(input(\"Enter amount to withdraw: \"))\n",
        "\n",
        "    if amount > balance:\n",
        "        print(\"Insufficient funds. Try again.\")\n",
        "    elif amount <= 0:\n",
        "        print(\"Invalid amount. Enter a positive number.\")\n",
        "    else:\n",
        "        balance -= amount\n",
        "        print(f\"Withdrawal successful! Remaining balance: ${balance}\")\n",
        "        break  # Exit loop after a successful transaction"
      ],
      "metadata": {
        "colab": {
          "base_uri": "https://localhost:8080/"
        },
        "id": "dlNSjdHmceqM",
        "outputId": "2c8b1010-d81c-4391-a879-b6d013317d40"
      },
      "execution_count": 18,
      "outputs": [
        {
          "output_type": "stream",
          "name": "stdout",
          "text": [
            "Enter amount to withdraw: 300\n",
            "Withdrawal successful! Remaining balance: $200\n"
          ]
        }
      ]
    },
    {
      "cell_type": "code",
      "source": [
        "#1. Write a Python program to print \"Hello, World!\"\n",
        "\n",
        "print(\"Hello, World!\")"
      ],
      "metadata": {
        "colab": {
          "base_uri": "https://localhost:8080/"
        },
        "id": "9QODUal1docF",
        "outputId": "c6ff83d5-c8fe-4035-e219-38766073d257"
      },
      "execution_count": 19,
      "outputs": [
        {
          "output_type": "stream",
          "name": "stdout",
          "text": [
            "Hello, World!\n"
          ]
        }
      ]
    },
    {
      "cell_type": "code",
      "source": [
        "#2. Write a Python program that displays your name and age8.\n",
        "Name = \"Veeramallu Harish\"\n",
        "Age = 26\n",
        "print(f\"My name is: {Name}\")\n",
        "print(f\"My age is: {Age}\")"
      ],
      "metadata": {
        "colab": {
          "base_uri": "https://localhost:8080/"
        },
        "id": "MyW_KrHnd2Yy",
        "outputId": "7830ef37-f9a8-40c6-b2df-f16908d3264d"
      },
      "execution_count": 20,
      "outputs": [
        {
          "output_type": "stream",
          "name": "stdout",
          "text": [
            "My name is: Veeramallu Harish\n",
            "My age is: 26\n"
          ]
        }
      ]
    },
    {
      "cell_type": "code",
      "source": [
        "#3 Write code to print all the pre-defined keywords in Python using the keyword library\n",
        "import keyword\n",
        "all_keywords = keyword.kwlist\n",
        "print(all_keywords)"
      ],
      "metadata": {
        "colab": {
          "base_uri": "https://localhost:8080/"
        },
        "id": "NupWJa75egqZ",
        "outputId": "61961233-f8bf-4a0b-a789-1ef6c5f4f381"
      },
      "execution_count": 21,
      "outputs": [
        {
          "output_type": "stream",
          "name": "stdout",
          "text": [
            "['False', 'None', 'True', 'and', 'as', 'assert', 'async', 'await', 'break', 'class', 'continue', 'def', 'del', 'elif', 'else', 'except', 'finally', 'for', 'from', 'global', 'if', 'import', 'in', 'is', 'lambda', 'nonlocal', 'not', 'or', 'pass', 'raise', 'return', 'try', 'while', 'with', 'yield']\n"
          ]
        }
      ]
    },
    {
      "cell_type": "code",
      "source": [
        "#4 Write a program that checks if a given word is a Python keyword.\n",
        "import keyword\n",
        "\n",
        "# Get user input\n",
        "word = input(\"Enter a word to check if it's a Python keyword: \")\n",
        "\n",
        "# Check if it's a keyword\n",
        "if keyword.iskeyword(word):\n",
        "    print(f\"'{word}' is a Python keyword.\")\n",
        "else:\n",
        "    print(f\"'{word}' is NOT a Python keyword.\")\n"
      ],
      "metadata": {
        "colab": {
          "base_uri": "https://localhost:8080/"
        },
        "id": "P155VePffMFb",
        "outputId": "057f54cc-634a-4e76-cee8-41055f490108"
      },
      "execution_count": 22,
      "outputs": [
        {
          "output_type": "stream",
          "name": "stdout",
          "text": [
            "Enter a word to check if it's a Python keyword: if\n",
            "'if' is a Python keyword.\n"
          ]
        }
      ]
    },
    {
      "cell_type": "code",
      "source": [
        "#5  Create a list and tuple in Python, and demonstrate how attempting to change an element works differently for each.\n",
        "\n",
        "# Creating a list\n",
        "my_list = [1, 2, 3, 4]\n",
        "print(\"Original list:\", my_list)\n",
        "\n",
        "# Modifying an element in the list\n",
        "my_list[1] = 26\n",
        "print(\"Modified list:\", my_list)\n",
        "\n",
        "# Creating a tuple\n",
        "my_tuple = (1, 2, 3, 4)\n",
        "print(\"\\nOriginal tuple:\", my_tuple)\n",
        "\n",
        "# Attempting to modify an element in the tuple (this will cause an error)\n",
        "try:\n",
        "    my_tuple[1] = 26\n",
        "except TypeError as e:\n",
        "    print(\"Error:\", e)"
      ],
      "metadata": {
        "colab": {
          "base_uri": "https://localhost:8080/"
        },
        "id": "rKQnp_Djfzvz",
        "outputId": "ef8c6e21-ac9c-46cb-ce12-2a2878f5e35a"
      },
      "execution_count": 23,
      "outputs": [
        {
          "output_type": "stream",
          "name": "stdout",
          "text": [
            "Original list: [1, 2, 3, 4]\n",
            "Modified list: [1, 26, 3, 4]\n",
            "\n",
            "Original tuple: (1, 2, 3, 4)\n",
            "Error: 'tuple' object does not support item assignment\n"
          ]
        }
      ]
    },
    {
      "cell_type": "code",
      "source": [
        "#6. . Write a function to demonstrate the behavior of mutable and immutable arguments.\n",
        "\n",
        "#Python function that demonstrates how mutable (like lists) and immutable (like integers and strings) arguments behave when passed to a function.\n",
        "def modify_values(num, text, my_list):\n",
        "    # Attempt to modify immutable types\n",
        "    num += 10\n",
        "    text += \" World\"\n",
        "\n",
        "    # Modify mutable type\n",
        "    my_list.append(4)\n",
        "\n",
        "    print(\"\\nInside function:\")\n",
        "    print(\"num:\", num)   # Immutable, won't affect original\n",
        "    print(\"text:\", text)  # Immutable, won't affect original\n",
        "    print(\"my_list:\", my_list)  # Mutable, will affect original\n",
        "\n",
        "\n",
        "# Define immutable and mutable variables\n",
        "num = 5\n",
        "text = \"Hello\"\n",
        "my_list = [1, 2, 3]\n",
        "\n",
        "print(\"Before function call:\")\n",
        "print(\"num:\", num)\n",
        "print(\"text:\", text)\n",
        "print(\"my_list:\", my_list)\n",
        "\n",
        "# Call the function\n",
        "modify_values(num, text, my_list)\n",
        "\n",
        "print(\"\\nAfter function call:\")\n",
        "print(\"num:\", num)   # Unchanged\n",
        "print(\"text:\", text)  # Unchanged\n",
        "print(\"my_list:\", my_list)  # Changed!"
      ],
      "metadata": {
        "colab": {
          "base_uri": "https://localhost:8080/"
        },
        "id": "2kPiFAFjgMmN",
        "outputId": "f2f8bd29-63b0-4e2a-9ef2-991c78eaa24f"
      },
      "execution_count": 24,
      "outputs": [
        {
          "output_type": "stream",
          "name": "stdout",
          "text": [
            "Before function call:\n",
            "num: 5\n",
            "text: Hello\n",
            "my_list: [1, 2, 3]\n",
            "\n",
            "Inside function:\n",
            "num: 15\n",
            "text: Hello World\n",
            "my_list: [1, 2, 3, 4]\n",
            "\n",
            "After function call:\n",
            "num: 5\n",
            "text: Hello\n",
            "my_list: [1, 2, 3, 4]\n"
          ]
        }
      ]
    },
    {
      "cell_type": "code",
      "source": [
        "# 7. Write a program that performs basic arithmetic operations on two user-input numbers\n",
        "   # Get user input\n",
        "num1 = float(input(\"Enter the first number: \"))\n",
        "num2 = float(input(\"Enter the second number: \"))\n",
        "\n",
        "# Perform arithmetic operations\n",
        "addition = num1 + num2\n",
        "subtraction = num1 - num2\n",
        "multiplication = num1 * num2\n",
        "division = num1 / num2 if num2 != 0 else \"Undefined (cannot divide by zero)\"\n",
        "\n",
        "# Display results\n",
        "print(\"\\nResults:\")\n",
        "print(f\"Addition: {num1} + {num2} = {addition}\")\n",
        "print(f\"Subtraction: {num1} - {num2} = {subtraction}\")\n",
        "print(f\"Multiplication: {num1} × {num2} = {multiplication}\")\n",
        "print(f\"Division: {num1} ÷ {num2} = {division}\")"
      ],
      "metadata": {
        "colab": {
          "base_uri": "https://localhost:8080/"
        },
        "id": "KTNCUlVZg_ha",
        "outputId": "d67fe7e7-8e6e-45bf-9fd6-7ec93fbfb3b4"
      },
      "execution_count": 25,
      "outputs": [
        {
          "output_type": "stream",
          "name": "stdout",
          "text": [
            "Enter the first number: 28\n",
            "Enter the second number: 4\n",
            "\n",
            "Results:\n",
            "Addition: 28.0 + 4.0 = 32.0\n",
            "Subtraction: 28.0 - 4.0 = 24.0\n",
            "Multiplication: 28.0 × 4.0 = 112.0\n",
            "Division: 28.0 ÷ 4.0 = 7.0\n"
          ]
        }
      ]
    },
    {
      "cell_type": "code",
      "source": [
        " #8. Write a program to demonstrate the use of logical operators\n",
        " #Get user input\n",
        "age = int(input(\"Enter your age: \"))\n",
        "has_license = input(\"Do you have a driver's license? (yes/no): \").strip().lower()\n",
        "\n",
        "# Convert input to Boolean\n",
        "has_license = has_license == \"yes\"\n",
        "\n",
        "# Using logical operators\n",
        "can_drive = age >= 18 and has_license\n",
        "needs_license = age >= 18 and not has_license\n",
        "too_young = age < 18\n",
        "\n",
        "# Display results\n",
        "print(\"\\nLogical Operator Results:\")\n",
        "print(f\"Can drive: {can_drive}\")  # True if age >= 18 AND has a license\n",
        "print(f\"Needs a license: {needs_license}\")  # True if age >= 18 but no license\n",
        "print(f\"Too young to drive: {too_young}\")  # True if age < 18"
      ],
      "metadata": {
        "colab": {
          "base_uri": "https://localhost:8080/"
        },
        "id": "SMNVui5UhcNe",
        "outputId": "37e69963-b580-4b96-92f3-1c5d16cc6468"
      },
      "execution_count": 27,
      "outputs": [
        {
          "output_type": "stream",
          "name": "stdout",
          "text": [
            "Enter your age: 26\n",
            "Do you have a driver's license? (yes/no): yes\n",
            "\n",
            "Logical Operator Results:\n",
            "Can drive: True\n",
            "Needs a license: False\n",
            "Too young to drive: False\n"
          ]
        }
      ]
    },
    {
      "cell_type": "code",
      "source": [
        "#9. Write a Python program to convert user input from string to integer, float, and boolean types.\n",
        "# Get user input as a string\n",
        "user_input = input(\"Enter a value: \")\n",
        "\n",
        "# Convert to integer (if possible)\n",
        "try:\n",
        "    int_value = int(user_input)\n",
        "except ValueError:\n",
        "    int_value = \"Cannot convert to integer\"\n",
        "\n",
        "# Convert to float (if possible)\n",
        "try:\n",
        "    float_value = float(user_input)\n",
        "except ValueError:\n",
        "    float_value = \"Cannot convert to float\"\n",
        "\n",
        "# Convert to boolean\n",
        "bool_value = bool(user_input)  # Empty string is False, anything else is True\n",
        "\n",
        "# Display the converted values\n",
        "print(\"\\nConverted Values:\")\n",
        "print(f\"Integer: {int_value}\")\n",
        "print(f\"Float: {float_value}\")\n",
        "print(f\"Boolean: {bool_value}\")\n"
      ],
      "metadata": {
        "colab": {
          "base_uri": "https://localhost:8080/"
        },
        "id": "3OtCRlt7hsuo",
        "outputId": "708fc859-22d3-4ce1-88e2-ae0ac0e1b0a6"
      },
      "execution_count": 28,
      "outputs": [
        {
          "output_type": "stream",
          "name": "stdout",
          "text": [
            "Enter a value: 26\n",
            "\n",
            "Converted Values:\n",
            "Integer: 26\n",
            "Float: 26.0\n",
            "Boolean: True\n"
          ]
        }
      ]
    },
    {
      "cell_type": "code",
      "source": [
        "#10. Write code to demonstrate type casting with list elements.\n",
        "\n",
        "# List with mixed data types (strings and numbers as strings)\n",
        "string_list = [\"10\", \"20.5\", \"30\", \"True\", \"Hello\"]\n",
        "\n",
        "# Type casting list elements\n",
        "int_list = [int(x) for x in string_list if x.isdigit()]  # Convert only valid integers\n",
        "float_list = [float(x) for x in string_list if x.replace('.', '', 1).isdigit()]  # Convert valid floats\n",
        "bool_list = [bool(x) for x in string_list]  # Convert all elements to Boolean\n",
        "# Display results\n",
        "print(\"Original List:\", string_list)\n",
        "print(\"Integer List:\", int_list)\n",
        "print(\"Float List:\", float_list)\n",
        "print(\"Boolean List:\", bool_list)"
      ],
      "metadata": {
        "colab": {
          "base_uri": "https://localhost:8080/"
        },
        "id": "TsW5ms71iMFQ",
        "outputId": "2720133d-4416-4bb2-e4af-430cbe4cf6ae"
      },
      "execution_count": 29,
      "outputs": [
        {
          "output_type": "stream",
          "name": "stdout",
          "text": [
            "Original List: ['10', '20.5', '30', 'True', 'Hello']\n",
            "Integer List: [10, 30]\n",
            "Float List: [10.0, 20.5, 30.0]\n",
            "Boolean List: [True, True, True, True, True]\n"
          ]
        }
      ]
    },
    {
      "cell_type": "code",
      "source": [
        "# 11. Write a program that checks if a number is positive, negative, or zero.\n",
        "\n",
        "# Get user input\n",
        "num = float(input(\"Enter a number: \"))\n",
        "\n",
        "# Check the number's sign\n",
        "if num > 0:\n",
        "    print(\"The number is Positive.\")\n",
        "elif num < 0:\n",
        "    print(\"The number is Negative.\")\n",
        "else:\n",
        "    print(\"The number is Zero.\")"
      ],
      "metadata": {
        "colab": {
          "base_uri": "https://localhost:8080/"
        },
        "id": "BNahczk7iXKG",
        "outputId": "eacd00d3-cff3-46e3-daf2-941cbd699e3e"
      },
      "execution_count": 30,
      "outputs": [
        {
          "output_type": "stream",
          "name": "stdout",
          "text": [
            "Enter a number: 5\n",
            "The number is Positive.\n"
          ]
        }
      ]
    },
    {
      "cell_type": "code",
      "source": [
        "#12  Write a for loop to print numbers from 1 to 10.\n",
        "\n",
        "for num in range(1, 11):  # Loop from 1 to 10\n",
        "    print(num)"
      ],
      "metadata": {
        "colab": {
          "base_uri": "https://localhost:8080/"
        },
        "id": "X8C1vv0Oimg1",
        "outputId": "3fa55968-e599-46fa-c572-b6e13cd1784e"
      },
      "execution_count": 31,
      "outputs": [
        {
          "output_type": "stream",
          "name": "stdout",
          "text": [
            "1\n",
            "2\n",
            "3\n",
            "4\n",
            "5\n",
            "6\n",
            "7\n",
            "8\n",
            "9\n",
            "10\n"
          ]
        }
      ]
    },
    {
      "cell_type": "code",
      "source": [
        "#13. Write a Python program to find the sum of all even numbers between 1 and 50.\n",
        "sum_even = 0\n",
        "\n",
        "# Loop through even numbers from 1 to 50\n",
        "for num in range(2, 51, 2):  # Start at 2, go up to 50, step by 2\n",
        "    sum_even += num\n",
        "\n",
        "# Display the result\n",
        "print(\"Sum of all even numbers between 1 and 50:\", sum_even)"
      ],
      "metadata": {
        "colab": {
          "base_uri": "https://localhost:8080/"
        },
        "id": "-TdLAQP9itSx",
        "outputId": "6d6eacdb-3a80-429d-c70f-81ae9176a751"
      },
      "execution_count": 33,
      "outputs": [
        {
          "output_type": "stream",
          "name": "stdout",
          "text": [
            "Sum of all even numbers between 1 and 50: 650\n"
          ]
        }
      ]
    },
    {
      "cell_type": "code",
      "source": [
        "#14. Write a program to reverse a string using a while loop\n",
        "\n",
        "# Get user input\n",
        "string = input(\"Enter a string: \")\n",
        "\n",
        "# Initialize variables\n",
        "reversed_string = \"\"\n",
        "index = len(string) - 1  # Start from the last character\n",
        "\n",
        "# Use a while loop to reverse the string\n",
        "while index >= 0:\n",
        "    reversed_string += string[index]  # Append character in reverse order\n",
        "    index -= 1  # Move to the previous character\n",
        "\n",
        "# Display the reversed string\n",
        "print(\"Reversed string:\", reversed_string)"
      ],
      "metadata": {
        "colab": {
          "base_uri": "https://localhost:8080/"
        },
        "id": "DEcQeWzzi9Qt",
        "outputId": "924f5943-d6c0-4be0-a67f-75f5e56c05cd"
      },
      "execution_count": 34,
      "outputs": [
        {
          "output_type": "stream",
          "name": "stdout",
          "text": [
            "Enter a string: Harish\n",
            "Reversed string: hsiraH\n"
          ]
        }
      ]
    },
    {
      "cell_type": "code",
      "source": [
        "#15. Write a Python program to calculate the factorial of a number provided by the user using a while loop.\n",
        "\n",
        "# Get user input\n",
        "num = int(input(\"Enter a number: \"))\n",
        "\n",
        "# Initialize variables\n",
        "factorial = 1\n",
        "i = num\n",
        "\n",
        "# Calculate factorial using a while loop\n",
        "while i > 0:\n",
        "    factorial *= i\n",
        "    i -= 1  # Decrease the counter\n",
        "\n",
        "# Display the result\n",
        "print(f\"Factorial of {num} is {factorial}\")"
      ],
      "metadata": {
        "colab": {
          "base_uri": "https://localhost:8080/"
        },
        "id": "P8ML-8E-jI5v",
        "outputId": "76d1d53e-5b41-4006-d3ee-18c65cce7cc2"
      },
      "execution_count": 35,
      "outputs": [
        {
          "output_type": "stream",
          "name": "stdout",
          "text": [
            "Enter a number: 5\n",
            "Factorial of 5 is 120\n"
          ]
        }
      ]
    }
  ]
}